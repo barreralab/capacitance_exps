{
 "cells": [
  {
   "cell_type": "code",
   "execution_count": 14,
   "id": "cb35a7e0-84a0-441b-a628-c409165866c1",
   "metadata": {},
   "outputs": [],
   "source": [
    "import logging\n",
    "import qcodes as qc\n",
    "import numpy as np\n",
    "from time import sleep\n",
    "\n",
    "# Matplot plots\n",
    "import matplotlib.pyplot as plt\n",
    "import matplotlib\n",
    "\n",
    "from qcodes.utils.dataset.doNd import plot as doNd_plot\n",
    "from qcodes.logger import start_all_logging\n",
    "\n",
    "# qcodes imports \n",
    "from qcodes.dataset import (\n",
    "    LinSweep,\n",
    "    Measurement,\n",
    "    dond,\n",
    "    experiments,\n",
    "    initialise_or_create_database_at,\n",
    "    load_by_run_spec,\n",
    "    load_or_create_experiment,\n",
    "    plot_dataset,\n",
    "    plot_by_id, \n",
    "    do1d\n",
    ")\n",
    "\n",
    "from barreralabdrivers.utils.param_utils import paramp\n",
    "\n",
    "from cappy.balancer import Balancer\n",
    "from cappy.config import testconfig, qc_dbpath\n",
    "\n",
    "# Live plotting with Plottr\n",
    "import IPython.lib.backgroundjobs as bg\n",
    "from plottr.apps import inspectr\n",
    "\n",
    "import keyboard"
   ]
  },
  {
   "cell_type": "code",
   "execution_count": 15,
   "id": "e37bfa6c-a66a-4ecd-881d-a0d8d850f016",
   "metadata": {},
   "outputs": [],
   "source": [
    "# Qcodes logger\n",
    "# log = logging.getLogger(\"balance_logger\")\n",
    "# from qcodes.logger import start_all_logging\n",
    "# # qc.logger.setLevel(logging.DEBUG)\n",
    "# log.setLevel(logging.DEBUG)\n",
    "# start_all_logging()"
   ]
  },
  {
   "cell_type": "code",
   "execution_count": 23,
   "id": "d727c449-dd17-4445-b54c-7dbf158ce0e9",
   "metadata": {},
   "outputs": [],
   "source": [
    "# Global Constants\n",
    "LIVE_PLOT = True\n",
    "SAVE_DATA = True\n",
    "EXP_NAME = \"sweep_tests\"\n",
    "SAMPLE_NAME = \"dry\"\n",
    "INT_TIME = 2    # lockin integration time\n",
    "\n",
    "## Balancing arguements\n",
    "FREQ = 50000\n",
    "DELTA = (150, 150)\n",
    "INITIAL = (10, 10)\n",
    "Cstand = 10  # nF\n",
    "DRIVE = 300"
   ]
  },
  {
   "cell_type": "code",
   "execution_count": 17,
   "id": "53bc6821-832f-4c40-b29a-6495466405d9",
   "metadata": {},
   "outputs": [
    {
     "name": "stdout",
     "output_type": "stream",
     "text": [
      "Connected to: BARRERA ACDAC02 (serial:AD9106, firmware:2.00) in 3.05s\n",
      "Connected to: Stanford_Research_Systems SR865A (serial:005296, firmware:V1.51) in 0.10s\n",
      "Connected to: YOKOGAWA 765611 (serial:90ZC43353, firmware:1.10) in 0.02s\n",
      "Connected to: KEITHLEY INSTRUMENTS DMM6500 (serial:04608216, firmware:1.7.12b) in 0.01s\n"
     ]
    }
   ],
   "source": [
    "qc.Instrument.close_all()\n",
    "station = qc.Station(config_file=str(testconfig))\n",
    "\n",
    "dac = station.load_instrument(\"acdac\")\n",
    "li = station.load_instrument(\"lockin\")\n",
    "yoko = station.load_instrument(\"yoko\")\n",
    "keithley = station.load_instrument(\"keithley\")\n",
    "\n",
    "# station.close_all_registered_instruments()\n",
    "# dac.display_mode('REMOTE')"
   ]
  },
  {
   "cell_type": "code",
   "execution_count": 18,
   "id": "a6535850",
   "metadata": {},
   "outputs": [],
   "source": [
    "# parameter definitions \n",
    "vdd = yoko.channel1.voltage\n",
    "vdd.label = \"vdd\"\n",
    "\n",
    "vg = yoko.channel2.voltage\n",
    "vg.label = \"vg\" \n",
    "\n",
    "idd = yoko.channel1.current\n",
    "ig = yoko.channel2.current\n",
    "vds = keithley.amplitude\n",
    "vds.label=\"vds\""
   ]
  },
  {
   "cell_type": "code",
   "execution_count": 19,
   "id": "bead9e90",
   "metadata": {},
   "outputs": [],
   "source": [
    "vg.instrument.output(0)"
   ]
  },
  {
   "cell_type": "code",
   "execution_count": 20,
   "id": "23f65c96-7210-4e59-a979-db4f9fd092c6",
   "metadata": {},
   "outputs": [],
   "source": [
    "# Setup qcodes database\n",
    "initialise_or_create_database_at(qc_dbpath)\n",
    "\n",
    "# Initialize Experiment\n",
    "balance_exp = load_or_create_experiment(\n",
    "    experiment_name=EXP_NAME,\n",
    "    sample_name=SAMPLE_NAME\n",
    ")"
   ]
  },
  {
   "cell_type": "markdown",
   "id": "c93d541b-2362-42c5-81f5-aae947008acc",
   "metadata": {},
   "source": [
    "# Run Experiment"
   ]
  },
  {
   "cell_type": "code",
   "execution_count": 25,
   "id": "e0af6a40",
   "metadata": {},
   "outputs": [],
   "source": [
    "START = 0 \n",
    "STOP = -0.7\n",
    "SAMPLES = 100\n",
    "INT_TIME = 0.5\n",
    "\n",
    "\n",
    "def setup():\n",
    "    dac.frequency(10000)\n",
    "\n",
    "    dac.ch4.voltage(400)\n",
    "    dac.ch3.voltage(300)\n",
    "    dac.display_mode(\"REMOTE\")\n",
    "\n",
    "    vdd(0.1)\n",
    "    dac.ch1.voltage(100)\n",
    "    dac.ch2.voltage(0)\n",
    "\n",
    "    vg.instrument.output(1)\n",
    "    vdd.instrument.output(1)\n",
    "\n",
    "def teardown():\n",
    "    paramp(vg)\n",
    "    paramp(vdd)\n",
    "    vg.instrument.output(0)\n",
    "    vdd.instrument.output(0) "
   ]
  },
  {
   "cell_type": "code",
   "execution_count": 26,
   "id": "ef762b6d",
   "metadata": {},
   "outputs": [],
   "source": [
    "# # run measurement\n",
    "matplotlib.rcParams['font.family'] = 'DejaVu Sans'  # Default fallback font in Matplotlib\n",
    "\n",
    "dep_params = [vds, li.R, li.P]\n",
    "if LIVE_PLOT:\n",
    "    jobs = bg.BackgroundJobManager()\n",
    "    jobs.new(inspectr.main, qc_dbpath)\n"
   ]
  },
  {
   "cell_type": "code",
   "execution_count": 27,
   "id": "3b2c12f1",
   "metadata": {},
   "outputs": [
    {
     "name": "stdout",
     "output_type": "stream",
     "text": [
      "Starting experimental run with id: 33. Using 'qcodes.dataset.do1d'\n"
     ]
    },
    {
     "data": {
      "application/vnd.jupyter.widget-view+json": {
       "model_id": "2a7b601c0b894977ac5bcbe91c2d6ab0",
       "version_major": 2,
       "version_minor": 0
      },
      "text/plain": [
       "  0%|          | 0/100 [00:00<?, ?it/s]"
      ]
     },
     "metadata": {},
     "output_type": "display_data"
    },
    {
     "name": "stderr",
     "output_type": "stream",
     "text": [
      "2024-11-21 19:04:17 - plottr.node.data_selector.DataSelector.Data selection - ERROR\n",
      "    EXCEPTION RAISED: <class 'ValueError'>: setting an array element with a sequence. The requested array has an inhomogeneous shape after 1 dimensions. The detected shape was (3,) + inhomogeneous part.\n",
      " ->   File \"C:\\Users\\barreralab\\AppData\\Local\\Programs\\Python\\Python312\\Lib\\site-packages\\pyqtgraph\\flowchart\\Node.py\", line 296, in update\n",
      "    out = self.process(**strDict(vals))\n",
      "          ^^^^^^^^^^^^^^^^^^^^^^^^^^^^^\n",
      "\n",
      " ->   File \"C:\\Users\\barreralab\\AppData\\Local\\Programs\\Python\\Python312\\Lib\\site-packages\\plottr\\node\\data_selector.py\", line 167, in process\n",
      "    data = self._reduceData(data)\n",
      "           ^^^^^^^^^^^^^^^^^^^^^^\n",
      "\n",
      " ->   File \"C:\\Users\\barreralab\\AppData\\Local\\Programs\\Python\\Python312\\Lib\\site-packages\\plottr\\node\\data_selector.py\", line 147, in _reduceData\n",
      "    ret = data.extract(dnames)\n",
      "          ^^^^^^^^^^^^^^^^^^^^\n",
      "\n",
      " ->   File \"C:\\Users\\barreralab\\AppData\\Local\\Programs\\Python\\Python312\\Lib\\site-packages\\plottr\\data\\datadict.py\", line 359, in extract\n",
      "    ret = ret.sanitize()\n",
      "          ^^^^^^^^^^^^^^\n",
      "\n",
      " ->   File \"C:\\Users\\barreralab\\AppData\\Local\\Programs\\Python\\Python312\\Lib\\site-packages\\plottr\\data\\datadict.py\", line 993, in sanitize\n",
      "    return ret.remove_invalid_entries()\n",
      "           ^^^^^^^^^^^^^^^^^^^^^^^^^^^^\n",
      "\n",
      " ->   File \"C:\\Users\\barreralab\\AppData\\Local\\Programs\\Python\\Python312\\Lib\\site-packages\\plottr\\data\\datadict.py\", line 1038, in remove_invalid_entries\n",
      "    tuple(np.array(idxs).astype(int)))\n",
      "          ^^^^^^^^^^^^^^\n",
      "\n",
      "\n",
      "ERROR:plottr.node.data_selector.DataSelector.Data selection:EXCEPTION RAISED: <class 'ValueError'>: setting an array element with a sequence. The requested array has an inhomogeneous shape after 1 dimensions. The detected shape was (3,) + inhomogeneous part.\n",
      " ->   File \"C:\\Users\\barreralab\\AppData\\Local\\Programs\\Python\\Python312\\Lib\\site-packages\\pyqtgraph\\flowchart\\Node.py\", line 296, in update\n",
      "    out = self.process(**strDict(vals))\n",
      "          ^^^^^^^^^^^^^^^^^^^^^^^^^^^^^\n",
      "\n",
      " ->   File \"C:\\Users\\barreralab\\AppData\\Local\\Programs\\Python\\Python312\\Lib\\site-packages\\plottr\\node\\data_selector.py\", line 167, in process\n",
      "    data = self._reduceData(data)\n",
      "           ^^^^^^^^^^^^^^^^^^^^^^\n",
      "\n",
      " ->   File \"C:\\Users\\barreralab\\AppData\\Local\\Programs\\Python\\Python312\\Lib\\site-packages\\plottr\\node\\data_selector.py\", line 147, in _reduceData\n",
      "    ret = data.extract(dnames)\n",
      "          ^^^^^^^^^^^^^^^^^^^^\n",
      "\n",
      " ->   File \"C:\\Users\\barreralab\\AppData\\Local\\Programs\\Python\\Python312\\Lib\\site-packages\\plottr\\data\\datadict.py\", line 359, in extract\n",
      "    ret = ret.sanitize()\n",
      "          ^^^^^^^^^^^^^^\n",
      "\n",
      " ->   File \"C:\\Users\\barreralab\\AppData\\Local\\Programs\\Python\\Python312\\Lib\\site-packages\\plottr\\data\\datadict.py\", line 993, in sanitize\n",
      "    return ret.remove_invalid_entries()\n",
      "           ^^^^^^^^^^^^^^^^^^^^^^^^^^^^\n",
      "\n",
      " ->   File \"C:\\Users\\barreralab\\AppData\\Local\\Programs\\Python\\Python312\\Lib\\site-packages\\plottr\\data\\datadict.py\", line 1038, in remove_invalid_entries\n",
      "    tuple(np.array(idxs).astype(int)))\n",
      "          ^^^^^^^^^^^^^^\n",
      "\n",
      "\n"
     ]
    },
    {
     "data": {
      "text/plain": [
       "(results #33@C:\\Users\\barreralab\\OneDrive - University of Toronto\\Documents\\capacitance_exps\\data\\qc.db\n",
       " ------------------------------------------------------------------------------------------------------\n",
       " yoko_channel2_voltage - numeric\n",
       " keithley_amplitude - numeric\n",
       " lockin_R - numeric\n",
       " lockin_P - numeric,\n",
       " (None,),\n",
       " (None,))"
      ]
     },
     "execution_count": 27,
     "metadata": {},
     "output_type": "execute_result"
    }
   ],
   "source": [
    "do1d(vg, START, STOP, SAMPLES, INT_TIME, *dep_params, write_period=0.1, do_plot=not LIVE_PLOT, enter_actions=[setup], exit_actions=[teardown], exp=balance_exp, show_progress=True)"
   ]
  },
  {
   "cell_type": "code",
   "execution_count": 28,
   "id": "1364f9a6",
   "metadata": {},
   "outputs": [],
   "source": [
    "# ramp(dac.ch2.voltage)\n",
    "dac.display_mode(\"NORMAL\")"
   ]
  },
  {
   "cell_type": "code",
   "execution_count": 29,
   "id": "11320979",
   "metadata": {},
   "outputs": [],
   "source": [
    "dac.ch3.voltage(10)\n",
    "teardown()"
   ]
  },
  {
   "cell_type": "markdown",
   "id": "a02290cc",
   "metadata": {},
   "source": [
    "## TODO\n",
    "\n",
    "- [ ] Quantum Designs Cryostatat 6000, Magnetic Field and Temperature params\n",
    "- [ ] Matplotlib font warnings: clear cache using `rm ~/.cache/matplotlib -rf `\n",
    "- [ ] Yokogs20 driver: functionality to read current while in voltage source mode and vv \n",
    "- [ ] Use dond or measureme instead of annoying measurement object setup  \n",
    "- [ ] wsl bash version 1 "
   ]
  }
 ],
 "metadata": {
  "kernelspec": {
   "display_name": "venv",
   "language": "python",
   "name": "venv"
  },
  "language_info": {
   "codemirror_mode": {
    "name": "ipython",
    "version": 3
   },
   "file_extension": ".py",
   "mimetype": "text/x-python",
   "name": "python",
   "nbconvert_exporter": "python",
   "pygments_lexer": "ipython3",
   "version": "3.12.3"
  }
 },
 "nbformat": 4,
 "nbformat_minor": 5
}
