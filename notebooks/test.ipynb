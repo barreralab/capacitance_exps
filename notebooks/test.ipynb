{
 "cells": [
  {
   "cell_type": "code",
   "execution_count": 1,
   "id": "a33642b6-70fe-4f37-b76b-cc5fda4fa53c",
   "metadata": {},
   "outputs": [
    {
     "ename": "TypeError",
     "evalue": "'module' object is not callable",
     "output_type": "error",
     "traceback": [
      "\u001b[1;31m---------------------------------------------------------------------------\u001b[0m",
      "\u001b[1;31mTypeError\u001b[0m                                 Traceback (most recent call last)",
      "Cell \u001b[1;32mIn[1], line 6\u001b[0m\n\u001b[0;32m      2\u001b[0m \u001b[38;5;28;01mfrom\u001b[39;00m \u001b[38;5;21;01mcappy\u001b[39;00m\u001b[38;5;21;01m.\u001b[39;00m\u001b[38;5;21;01mconfig\u001b[39;00m \u001b[38;5;28;01mimport\u001b[39;00m testconfig\n\u001b[0;32m      4\u001b[0m station \u001b[38;5;241m=\u001b[39m qc\u001b[38;5;241m.\u001b[39mStation(config_file\u001b[38;5;241m=\u001b[39m\u001b[38;5;28mstr\u001b[39m(testconfig))\n\u001b[1;32m----> 6\u001b[0m k \u001b[38;5;241m=\u001b[39m \u001b[43mstation\u001b[49m\u001b[38;5;241;43m.\u001b[39;49m\u001b[43mload_instrument\u001b[49m\u001b[43m(\u001b[49m\u001b[38;5;124;43m\"\u001b[39;49m\u001b[38;5;124;43mkeithley\u001b[39;49m\u001b[38;5;124;43m\"\u001b[39;49m\u001b[43m)\u001b[49m\n\u001b[0;32m      7\u001b[0m yoko \u001b[38;5;241m=\u001b[39m station\u001b[38;5;241m.\u001b[39mload_instrument(\u001b[38;5;124m\"\u001b[39m\u001b[38;5;124myoko\u001b[39m\u001b[38;5;124m\"\u001b[39m)\n\u001b[0;32m      8\u001b[0m li \u001b[38;5;241m=\u001b[39m station\u001b[38;5;241m.\u001b[39mload_instrument(\u001b[38;5;124m\"\u001b[39m\u001b[38;5;124mlockin\u001b[39m\u001b[38;5;124m\"\u001b[39m)\n",
      "File \u001b[1;32m~\\AppData\\Local\\Programs\\Python\\Python312\\Lib\\site-packages\\qcodes\\station.py:603\u001b[0m, in \u001b[0;36mStation.load_instrument\u001b[1;34m(self, identifier, revive_instance, update_snapshot, **kwargs)\u001b[0m\n\u001b[0;32m    601\u001b[0m module \u001b[38;5;241m=\u001b[39m importlib\u001b[38;5;241m.\u001b[39mimport_module(module_name)\n\u001b[0;32m    602\u001b[0m instr_class \u001b[38;5;241m=\u001b[39m \u001b[38;5;28mgetattr\u001b[39m(module, instr_class_name)\n\u001b[1;32m--> 603\u001b[0m instr \u001b[38;5;241m=\u001b[39m \u001b[43minstr_class\u001b[49m\u001b[43m(\u001b[49m\u001b[43mname\u001b[49m\u001b[38;5;241;43m=\u001b[39;49m\u001b[43mname\u001b[49m\u001b[43m,\u001b[49m\u001b[43m \u001b[49m\u001b[38;5;241;43m*\u001b[39;49m\u001b[38;5;241;43m*\u001b[39;49m\u001b[43minstr_kwargs\u001b[49m\u001b[43m)\u001b[49m\n\u001b[0;32m    605\u001b[0m \u001b[38;5;28;01mdef\u001b[39;00m \u001b[38;5;21mresolve_instrument_identifier\u001b[39m(\n\u001b[0;32m    606\u001b[0m     instrument: ChannelOrInstrumentBase, identifier: \u001b[38;5;28mstr\u001b[39m\n\u001b[0;32m    607\u001b[0m ) \u001b[38;5;241m-\u001b[39m\u001b[38;5;241m>\u001b[39m ChannelOrInstrumentBase:\n\u001b[0;32m    608\u001b[0m \u001b[38;5;250m    \u001b[39m\u001b[38;5;124;03m\"\"\"\u001b[39;00m\n\u001b[0;32m    609\u001b[0m \u001b[38;5;124;03m    Get the instrument, channel or channel_list described by a nested\u001b[39;00m\n\u001b[0;32m    610\u001b[0m \u001b[38;5;124;03m    string.\u001b[39;00m\n\u001b[1;32m   (...)\u001b[0m\n\u001b[0;32m    613\u001b[0m \u001b[38;5;124;03m    returns the first item of the channels property.\u001b[39;00m\n\u001b[0;32m    614\u001b[0m \u001b[38;5;124;03m    \"\"\"\u001b[39;00m\n",
      "\u001b[1;31mTypeError\u001b[0m: 'module' object is not callable"
     ]
    }
   ],
   "source": [
    "import qcodes as qc\n",
    "from cappy.config import testconfig\n",
    "\n",
    "station = qc.Station(config_file=str(testconfig))\n",
    "\n",
    "key = station.load_instrument(\"keithley\")\n",
    "yoko = station.load_instrument(\"yoko\")\n",
    "li = station.load_instrument(\"lockin\")"
   ]
  },
  {
   "cell_type": "code",
   "execution_count": null,
   "id": "5dc902c0-2b1b-41ee-a7d6-bc3c0810c545",
   "metadata": {},
   "outputs": [],
   "source": []
  }
 ],
 "metadata": {
  "kernelspec": {
   "display_name": "venv",
   "language": "python",
   "name": "venv"
  },
  "language_info": {
   "codemirror_mode": {
    "name": "ipython",
    "version": 3
   },
   "file_extension": ".py",
   "mimetype": "text/x-python",
   "name": "python",
   "nbconvert_exporter": "python",
   "pygments_lexer": "ipython3",
   "version": "3.12.3"
  }
 },
 "nbformat": 4,
 "nbformat_minor": 5
}
