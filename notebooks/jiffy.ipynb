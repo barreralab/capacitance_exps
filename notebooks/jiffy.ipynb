{
 "cells": [
  {
   "cell_type": "code",
   "execution_count": 25,
   "metadata": {},
   "outputs": [
    {
     "name": "stdout",
     "output_type": "stream",
     "text": [
      "Connected to: BARRERA ACDAC02 (serial:AD9106, firmware:2.00) in 3.05s\n",
      "Connected to: YOKOGAWA 765611 (serial:90ZC43353, firmware:1.10) in 0.03s\n",
      "Connected to: KEITHLEY INSTRUMENTS DMM6500 (serial:04608216, firmware:1.7.12b) in 0.02s\n",
      "Connected to: Stanford_Research_Systems SR865A (serial:005296, firmware:V1.51) in 0.13s\n"
     ]
    }
   ],
   "source": [
    "import qcodes as qc \n",
    "from cappy.config import testconfig \n",
    "\n",
    "station = qc.Station(config_file=str(testconfig))\n",
    "\n",
    "dac = station.load_instrument(\"acdac\")\n",
    "yoko = station.load_instrument(\"yoko\")\n",
    "keithley = station.load_instrument(\"keithley\")\n",
    "li = station.load_instrument(\"lockin\")"
   ]
  },
  {
   "cell_type": "code",
   "execution_count": 26,
   "metadata": {},
   "outputs": [
    {
     "data": {
      "text/plain": [
       "['acdac', 'yoko', 'keithley', 'lockin']"
      ]
     },
     "execution_count": 26,
     "metadata": {},
     "output_type": "execute_result"
    }
   ],
   "source": [
    "list(qc.Instrument._all_instruments)"
   ]
  },
  {
   "cell_type": "code",
   "execution_count": 27,
   "metadata": {},
   "outputs": [],
   "source": [
    "qc.Instrument.close_all()"
   ]
  },
  {
   "cell_type": "code",
   "execution_count": 28,
   "metadata": {},
   "outputs": [
    {
     "data": {
      "text/plain": [
       "[]"
      ]
     },
     "execution_count": 28,
     "metadata": {},
     "output_type": "execute_result"
    }
   ],
   "source": [
    "list(qc.Instrument._all_instruments)"
   ]
  },
  {
   "cell_type": "code",
   "execution_count": null,
   "metadata": {},
   "outputs": [],
   "source": []
  }
 ],
 "metadata": {
  "kernelspec": {
   "display_name": "venv",
   "language": "python",
   "name": "venv"
  },
  "language_info": {
   "codemirror_mode": {
    "name": "ipython",
    "version": 3
   },
   "file_extension": ".py",
   "mimetype": "text/x-python",
   "name": "python",
   "nbconvert_exporter": "python",
   "pygments_lexer": "ipython3",
   "version": "3.12.3"
  }
 },
 "nbformat": 4,
 "nbformat_minor": 2
}
