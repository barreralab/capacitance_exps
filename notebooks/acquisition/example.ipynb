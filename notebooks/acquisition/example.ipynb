{
 "cells": [
  {
   "cell_type": "code",
   "execution_count": 1,
   "metadata": {
    "vscode": {
     "languageId": "plaintext"
    }
   },
   "outputs": [
    {
     "name": "stdout",
     "output_type": "stream",
     "text": [
      "C:\\Users\\barreralab\\OneDrive - University of Toronto\\Documents\\capacitance_exps\\src\\cappy\\station_configs\\insts.yml\n"
     ]
    }
   ],
   "source": [
    "import qcodes as qc\n",
    "import pyvisa\n",
    "from cappy.config import testconfig\n",
    "\n",
    "print(testconfig)"
   ]
  },
  {
   "cell_type": "code",
   "execution_count": 2,
   "metadata": {},
   "outputs": [
    {
     "data": {
      "text/plain": [
       "('TCPIP0::169.254.1.5::inst0::INSTR',\n",
       " 'TCPIP0::169.254.169.1::inst0::INSTR',\n",
       " 'ASRL1::INSTR',\n",
       " 'ASRL3::INSTR')"
      ]
     },
     "execution_count": 2,
     "metadata": {},
     "output_type": "execute_result"
    }
   ],
   "source": [
    "rm = pyvisa.ResourceManager()\n",
    "rm.list_resources()"
   ]
  },
  {
   "cell_type": "code",
   "execution_count": 5,
   "metadata": {},
   "outputs": [
    {
     "name": "stdout",
     "output_type": "stream",
     "text": [
      "Connected to: Stanford_Research_Systems SR865A (serial:005296, firmware:V1.51) in 0.13s\n",
      "Connected to: YOKOGAWA 765611 (serial:90ZC43353, firmware:1.10) in 0.04s\n"
     ]
    }
   ],
   "source": [
    "container = qc.Station(config_file=str(testconfig))\n",
    "li = container.load_lockin()\n",
    "yoko = container.load_yoko()"
   ]
  },
  {
   "cell_type": "code",
   "execution_count": null,
   "metadata": {},
   "outputs": [],
   "source": []
  },
  {
   "cell_type": "code",
   "execution_count": null,
   "metadata": {},
   "outputs": [],
   "source": []
  }
 ],
 "metadata": {
  "kernelspec": {
   "display_name": "venv",
   "language": "python",
   "name": "venv"
  },
  "language_info": {
   "codemirror_mode": {
    "name": "ipython",
    "version": 3
   },
   "file_extension": ".py",
   "mimetype": "text/x-python",
   "name": "python",
   "nbconvert_exporter": "python",
   "pygments_lexer": "ipython3",
   "version": "3.12.3"
  }
 },
 "nbformat": 4,
 "nbformat_minor": 4
}
