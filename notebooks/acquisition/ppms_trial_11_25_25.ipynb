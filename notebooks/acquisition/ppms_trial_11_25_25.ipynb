{
 "cells": [
  {
   "cell_type": "code",
   "execution_count": null,
   "metadata": {},
   "outputs": [],
   "source": [
    "import qcodes as qc\n",
    "import numpy as np\n",
    "from time import sleep\n",
    "\n",
    "import sweep \n",
    "from barreralabdrivers.utils.param_utils import paramp\n",
    "from cappy.config import coolconfig, datapath\n",
    "from qcodes.instrument_drivers.QuantumDesign import DynaCool"
   ]
  },
  {
   "cell_type": "code",
   "execution_count": null,
   "metadata": {},
   "outputs": [
    {
     "name": "stdout",
     "output_type": "stream",
     "text": [
      "Connected to: BARRERA ACDAC02 (serial:AD9106, firmware:2.00) in 3.10s\n",
      "Connected to: YOKOGAWA 765611 (serial:90ZC43353, firmware:1.10) in 0.02s\n",
      "Connected to: KEITHLEY INSTRUMENTS DMM6500 (serial:04608216, firmware:1.7.12b) in 0.01s\n",
      "Connected to: Stanford_Research_Systems SR865A (serial:005296, firmware:V1.51) in 0.09s\n"
     ]
    }
   ],
   "source": [
    "# instrument connections \n",
    "qc.Instrument.close_all()   # in case of existing connecitons\n",
    "container = qc.Station(config_file=str(coolconfig))\n",
    "\n",
    "acdac = container.load_instrument(\"acdac\")\n",
    "yoko = container.load_instrument(\"yoko\")\n",
    "keithely = container.load_instrument(\"keithley\")\n",
    "li = container.load_instrument(\"lockin\")\n",
    "# ppms = container.load_instrument(\"ppms\") # update PPMS PC ethernet IP address to 169.254.x.x "
   ]
  },
  {
   "cell_type": "code",
   "execution_count": 7,
   "metadata": {},
   "outputs": [],
   "source": [
    "# TODO: aliases for parameters. Update labels to reflect physical quantities for following cell\n",
    "\n",
    "# vg = yoko.channel1.voltage \n",
    "# vg.label = \"Gate Voltage\"\n",
    "  \n",
    "indep_params = []\n",
    "dep_params = []"
   ]
  },
  {
   "cell_type": "code",
   "execution_count": null,
   "metadata": {},
   "outputs": [],
   "source": [
    "# measurement config for analysis \n",
    "mc = {}\n",
    "for param in indep_params + dep_params:\n",
    "    mc[param.full_name] = param.label\n",
    "\n",
    "s = sweep.Station(basedir=datapath, measurement_config=mc)\n",
    "for param in indep_params + dep_params:\n",
    "    s.fp(param)\n",
    "\n",
    "s.add_comment(\"ENTER A COMMENT HERE\")"
   ]
  },
  {
   "cell_type": "code",
   "execution_count": null,
   "metadata": {},
   "outputs": [],
   "source": [
    "# instrument setups\n",
    "\n",
    "# vg(0.1) ... "
   ]
  },
  {
   "cell_type": "code",
   "execution_count": 1,
   "metadata": {},
   "outputs": [],
   "source": [
    "# TODO: add parameters to live plot here \n",
    "\n",
    "# s.plot(\"time\", li.R)\n",
    "# s.plot(vg, li.R)"
   ]
  },
  {
   "cell_type": "code",
   "execution_count": null,
   "metadata": {},
   "outputs": [],
   "source": [
    "# Run experiment \n",
    "# START = 0\n",
    "# STOP = 1\n",
    "# SAMPLES = 20\n",
    "# INT_TIME = 0.4\n",
    "\n",
    "# s.watch(delay = INT_TIME, max_duration=10)\n",
    "# setpoints = np.linspace(START, STOP, SAMPLES)\n",
    "# res = s.sweep(vg, setpoints, delay=INT_TIME)"
   ]
  },
  {
   "cell_type": "code",
   "execution_count": null,
   "metadata": {},
   "outputs": [],
   "source": [
    "# Look at result metadate for verification \n",
    "\n",
    "# res.metadata"
   ]
  }
 ],
 "metadata": {
  "kernelspec": {
   "display_name": "venv",
   "language": "python",
   "name": "python3"
  },
  "language_info": {
   "codemirror_mode": {
    "name": "ipython",
    "version": 3
   },
   "file_extension": ".py",
   "mimetype": "text/x-python",
   "name": "python",
   "nbconvert_exporter": "python",
   "pygments_lexer": "ipython3",
   "version": "3.12.3"
  }
 },
 "nbformat": 4,
 "nbformat_minor": 2
}
