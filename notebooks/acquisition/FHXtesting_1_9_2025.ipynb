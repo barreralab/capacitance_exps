{
 "cells": [
  {
   "cell_type": "code",
   "execution_count": 3,
   "metadata": {},
   "outputs": [],
   "source": [
    "import qcodes as qc\n",
    "import numpy as np\n",
    "from time import sleep\n",
    "import sys\n",
    "\n",
    "#adding the project directory to the path\n",
    "sys.path.append('/Users/barreralab/OneDrive - University of Toronto/Documents/capacitance_exps')\n",
    "#this allows to import files from the parent directory and not just where the notebook is stored\n",
    "\n",
    "import sweep \n",
    "from sweep.sweep_load import pload1d\n",
    "from barreralabdrivers.utils.param_utils import paramp\n",
    "from src.cappy.config import coolconfig, datapath\n",
    "from src.cappy.balancer import Balancer\n",
    "\n",
    "from qcodes.validators import Numbers\n",
    "from qcodes.parameters import Parameter, ScaledParameter \n",
    "import datetime"
   ]
  },
  {
   "cell_type": "code",
   "execution_count": null,
   "metadata": {},
   "outputs": [],
   "source": [
    "qc.Instrument.close_all()\n",
    "#must be run in order to clear all previous connections to instruments"
   ]
  },
  {
   "cell_type": "code",
   "execution_count": 6,
   "metadata": {},
   "outputs": [
    {
     "name": "stdout",
     "output_type": "stream",
     "text": [
      "Connected to: YOKOGAWA 765611 (serial:90ZC43353, firmware:1.10) in 0.77s\n",
      "Connected to: KEITHLEY INSTRUMENTS DMM6500 (serial:04608216, firmware:1.7.12b) in 0.02s\n"
     ]
    }
   ],
   "source": [
    "container = qc.Station(config_file=str(coolconfig))\n",
    "\n",
    "yoko = container.load_instrument('yoko')\n",
    "keithley = container.load_instrument('keithley')\n",
    "\n"
   ]
  },
  {
   "cell_type": "code",
   "execution_count": 9,
   "metadata": {},
   "outputs": [],
   "source": [
    "yoko.channel1.off()"
   ]
  },
  {
   "cell_type": "code",
   "execution_count": 14,
   "metadata": {},
   "outputs": [],
   "source": [
    "#defining channel params as variables\n",
    "\n",
    "vg = yoko.channel1.voltage\n",
    "vdd = yoko.channel2.voltage\n",
    "gate_current = yoko.channel2.current\n",
    "vds = keithley.amplitude"
   ]
  },
  {
   "cell_type": "code",
   "execution_count": null,
   "metadata": {},
   "outputs": [
    {
     "data": {
      "text/plain": [
       "-3.115733e-06"
      ]
     },
     "execution_count": 15,
     "metadata": {},
     "output_type": "execute_result"
    }
   ],
   "source": [
    "#setting in units of volts, reading in volts\n",
    "vg(0.01)\n",
    "vdd(0.02)\n",
    "vds()"
   ]
  },
  {
   "cell_type": "code",
   "execution_count": 17,
   "metadata": {},
   "outputs": [],
   "source": [
    "#testing paramp\n",
    "sleep(2)\n",
    "paramp((vg,vdd))"
   ]
  },
  {
   "cell_type": "code",
   "execution_count": 18,
   "metadata": {},
   "outputs": [],
   "source": [
    "yoko.channel1.on()\n",
    "yoko.channel2.on()"
   ]
  },
  {
   "cell_type": "code",
   "execution_count": null,
   "metadata": {},
   "outputs": [],
   "source": [
    "#set the breakout box pins 33 (drain), 37 (gate), 44(source) on on the breakout box"
   ]
  },
  {
   "cell_type": "code",
   "execution_count": null,
   "metadata": {},
   "outputs": [],
   "source": [
    "#manually set vdd = 100mV, manually ramp vg, observe vds to make sure nothing is broken in FHX"
   ]
  }
 ],
 "metadata": {
  "kernelspec": {
   "display_name": "Python 3",
   "language": "python",
   "name": "python3"
  },
  "language_info": {
   "codemirror_mode": {
    "name": "ipython",
    "version": 3
   },
   "file_extension": ".py",
   "mimetype": "text/x-python",
   "name": "python",
   "nbconvert_exporter": "python",
   "pygments_lexer": "ipython3",
   "version": "3.12.3"
  }
 },
 "nbformat": 4,
 "nbformat_minor": 2
}
