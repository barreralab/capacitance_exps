{
 "cells": [
  {
   "cell_type": "markdown",
   "metadata": {},
   "source": [
    "# Determining Optimal Gate Bias "
   ]
  },
  {
   "cell_type": "code",
   "execution_count": 3,
   "metadata": {},
   "outputs": [],
   "source": [
    "import qcodes as qc\n",
    "import numpy as np\n",
    "from time import sleep\n",
    "\n",
    "import sweep \n",
    "from sweep.sweep_load import pload1d\n",
    "from barreralabdrivers.utils.param_utils import paramp\n",
    "from cappy.config import dualhemtconfig, datapath\n",
    "from cappy.balancer import Balancer\n",
    "\n",
    "from qcodes.validators import Numbers\n",
    "from qcodes.parameters import Parameter, ScaledParameter\n",
    "import datetime"
   ]
  },
  {
   "cell_type": "code",
   "execution_count": 5,
   "metadata": {},
   "outputs": [
    {
     "name": "stdout",
     "output_type": "stream",
     "text": [
      "Connected to: BARRERA ACDAC02 (serial:AD9106, firmware:2.00) in 3.08s\n",
      "Connected to: BARRERA DCDAC01 (serial:AD5764, firmware:2.00) in 3.05s\n",
      "Connected to: YOKOGAWA 765611 (serial:90ZC43353, firmware:1.10) in 0.05s\n",
      "Connected to: KEITHLEY INSTRUMENTS DMM6500 (serial:04608216, firmware:1.7.12b) in 0.01s\n",
      "Connected to: Stanford_Research_Systems SR865A (serial:005296, firmware:V1.51) in 0.10s\n",
      "----------------------------------------------------------------------------------------------------\n",
      "Fri Jan 24 18:18:18 2025\n"
     ]
    }
   ],
   "source": [
    "qc.Instrument.close_all()   # in case of existing connecitons\n",
    "container = qc.Station(config_file=str(dualhemtconfig))\n",
    "\n",
    "acdac = container.load_instrument(\"acdac\")\n",
    "dcdac = container.load_instrument(\"dcdac\")\n",
    "yoko = container.load_instrument(\"yoko\")\n",
    "keithley = container.load_instrument(\"keithley\")\n",
    "li1 = container.load_instrument(\"lockin\")\n",
    "\n",
    "print(100 * \"-\")\n",
    "print(f\"{datetime.datetime.now().strftime('%c')}\")"
   ]
  },
  {
   "cell_type": "code",
   "execution_count": 23,
   "metadata": {},
   "outputs": [],
   "source": [
    "# Applied AC Voltages\n",
    "Vref = acdac.ch1\n",
    "V1pf = acdac.ch2\n",
    "Vlref = acdac.ch3\n",
    "\n",
    "# Applied DC Voltages\n",
    "Vdd = yoko.channel1.voltage #drain to source voltage on amplifier hemt \n",
    "Vgamp = dcdac.channel1.voltage \n",
    "\n",
    "non_positive_validator = Numbers(min_value=-2, max_value=0)\n",
    "vg_max_validator = Numbers(min_value = -2, max_value=Vgamp.get())\n",
    "\n",
    "Vgamp.add_validator(non_positive_validator)  \n",
    "Vgres = yoko.channel2.voltage\n",
    "Vgres.add_validator(vg_max_validator)\n",
    "\n",
    "# Measured Quantities \n",
    "Vdsdc = keithley.amplitude\n",
    "Vdsac_R = li1.R\n",
    "Vdsac_P = li1.P"
   ]
  },
  {
   "cell_type": "code",
   "execution_count": 24,
   "metadata": {},
   "outputs": [],
   "source": [
    "def Vgamp_set(value):\n",
    "    \"\"\"\n",
    "        Use this function to set Vgamp to value and update validator for Vgres. DO NOT set Vgamp natively. \n",
    "    \"\"\"\n",
    "    curr_Vgres = Vgres()\n",
    "    if curr_Vgres > value:\n",
    "        # update validator \n",
    "        vg_max_validator = Numbers(min_value = -3, max_value=value)\n",
    "        Vgres.remove_validator()\n",
    "        Vgres.add_validator(vg_max_validator)\n",
    "\n",
    "        # set Vgamp and Vgres\n",
    "        Vgres(value - 0.1)\n",
    "        sleep(0.2)\n",
    "\n",
    "    Vgamp(value)"
   ]
  },
  {
   "cell_type": "code",
   "execution_count": 25,
   "metadata": {},
   "outputs": [
    {
     "data": {
      "text/plain": [
       "(<Numbers -2<=v<=0.0>,)"
      ]
     },
     "execution_count": 25,
     "metadata": {},
     "output_type": "execute_result"
    }
   ],
   "source": [
    "Vgres.validators"
   ]
  },
  {
   "cell_type": "code",
   "execution_count": null,
   "metadata": {},
   "outputs": [],
   "source": []
  }
 ],
 "metadata": {
  "kernelspec": {
   "display_name": "venv",
   "language": "python",
   "name": "python3"
  },
  "language_info": {
   "codemirror_mode": {
    "name": "ipython",
    "version": 3
   },
   "file_extension": ".py",
   "mimetype": "text/x-python",
   "name": "python",
   "nbconvert_exporter": "python",
   "pygments_lexer": "ipython3",
   "version": "3.12.3"
  }
 },
 "nbformat": 4,
 "nbformat_minor": 2
}
