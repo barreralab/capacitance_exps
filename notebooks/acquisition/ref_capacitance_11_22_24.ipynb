{
 "cells": [
  {
   "cell_type": "code",
   "execution_count": 13,
   "metadata": {},
   "outputs": [],
   "source": [
    "from cappy.balancer import Balancer\n",
    "from cappy.config import testconfig, qc_dbpath\n",
    "import qcodes as qc\n",
    "from barreralabdrivers.utils.param_utils import paramp\n",
    "\n",
    "\n",
    "\n"
   ]
  },
  {
   "cell_type": "code",
   "execution_count": 7,
   "metadata": {},
   "outputs": [],
   "source": [
    "## Balancing arguments\n",
    "FREQ = 10000\n",
    "DELTA = (150, 150)\n",
    "INITIAL = (10, 10)\n",
    "Cstand = 1  # pF\n",
    "DRIVE = 300"
   ]
  },
  {
   "cell_type": "code",
   "execution_count": 9,
   "metadata": {},
   "outputs": [
    {
     "name": "stdout",
     "output_type": "stream",
     "text": [
      "Connected to: BARRERA ACDAC02 (serial:AD9106, firmware:2.00) in 3.05s\n",
      "Connected to: Stanford_Research_Systems SR865A (serial:005296, firmware:V1.51) in 0.08s\n",
      "Connected to: YOKOGAWA 765611 (serial:90ZC43353, firmware:1.10) in 0.03s\n"
     ]
    }
   ],
   "source": [
    "qc.Instrument.close_all()   # in case of existing connections\n",
    "\n",
    "station = qc.Station(config_file=str(testconfig))\n",
    "\n",
    "dac = station.load_instrument(\"acdac\")\n",
    "li = station.load_instrument(\"lockin\")\n",
    "yoko = station.load_instrument(\"yoko\")\n",
    "\n"
   ]
  },
  {
   "cell_type": "code",
   "execution_count": 27,
   "metadata": {},
   "outputs": [],
   "source": [
    "# parameter definitions \n",
    "vg = yoko.channel2.voltage\n",
    "vg.label = \"vg\" \n",
    "\n",
    "vdd = yoko.channel1.voltage\n",
    "\n",
    "dac.reset()"
   ]
  },
  {
   "cell_type": "code",
   "execution_count": 15,
   "metadata": {},
   "outputs": [],
   "source": [
    "paramp(vg, -0.657) #setting Vgate to bias voltage -0.657 V as per trans_conductance_11_22_24\n",
    "paramp(vdd, 0.1)  # ramping DC drive voltage to 0.1V"
   ]
  },
  {
   "cell_type": "code",
   "execution_count": 16,
   "metadata": {},
   "outputs": [],
   "source": [
    "balancer = Balancer(dac.ch1, dac.ch4, dac.ch2, li, dac.frequency) # ch1 = control, ch4 = reference, ch2 = drive"
   ]
  },
  {
   "cell_type": "code",
   "execution_count": 17,
   "metadata": {},
   "outputs": [],
   "source": [
    "# Initial balance\n",
    "def balance_initial():\n",
    "    balancer.excite(DRIVE, DRIVE, FREQ)\n",
    "    null_voltages = balancer.balance(INITIAL, DELTA, null=True)\n",
    "    c_meas = balancer.calculate_capacitance(Cstand)\n",
    "    print(f\"null voltages = {null_voltages}\")\n",
    "    print(f\"Balance Point Capacitance: {c_meas} nF\")\n"
   ]
  },
  {
   "cell_type": "code",
   "execution_count": 28,
   "metadata": {},
   "outputs": [
    {
     "name": "stdout",
     "output_type": "stream",
     "text": [
      "Kr1, Kr2 = (np.float64(0.007625249078466667), np.float64(-0.016212630047086667))\n",
      "Kc1, Kc2 = (np.float64(0.0162041944958), np.float64(0.007636597729579999))\n",
      "P = 0.18143675454438546\n",
      "null voltages = (np.float64(-0.09784584696232557), np.float64(-0.04398911420437912))\n",
      "Balance Point Capacitance: -0.0003261528232077519 nF\n"
     ]
    }
   ],
   "source": [
    "balance_initial()"
   ]
  },
  {
   "cell_type": "code",
   "execution_count": 29,
   "metadata": {},
   "outputs": [
    {
     "name": "stdout",
     "output_type": "stream",
     "text": [
      "acdac:\n",
      "\tparameter   value\n",
      "--------------------------------------------------------------------------------\n",
      "IDN          :\t{'vendor': 'BARRERA', 'model': 'ACDAC02', 'serial': 'AD9106', ...\n",
      "display_mode :\tREMOTE \n",
      " rror        :\t0 - No Error\n",
      "frequency    :\t10000 (Hz)\n",
      "timeout      :\t5 (s)\n",
      "acdac_ch1:\n",
      "\tparameter value\n",
      "--------------------------------------------------------------------------------\n",
      "phase   :\t-24.208 (deg)\n",
      "voltage :\t0.10728 (mV)\n",
      "acdac_ch2:\n",
      "\tparameter value\n",
      "--------------------------------------------------------------------------------\n",
      "phase   :\t0 (deg)\n",
      "voltage :\t300 (mV)\n",
      "acdac_ch3:\n",
      "\tparameter value\n",
      "--------------------------------------------------------------------------------\n",
      "phase   :\t0 (deg)\n",
      "voltage :\t0 (mV)\n",
      "acdac_ch4:\n",
      "\tparameter value\n",
      "--------------------------------------------------------------------------------\n",
      "phase   :\t0 (deg)\n",
      "voltage :\t300 (mV)\n"
     ]
    }
   ],
   "source": [
    "dac.print_readable_snapshot()"
   ]
  },
  {
   "cell_type": "code",
   "execution_count": null,
   "metadata": {},
   "outputs": [
    {
     "name": "stdout",
     "output_type": "stream",
     "text": [
      "acdac:\n",
      "\tparameter   value\n",
      "--------------------------------------------------------------------------------\n",
      "IDN          :\t{'vendor': 'BARRERA', 'model': 'ACDAC02', 'serial': 'AD9106', ...\n",
      "display_mode :\tREMOTE \n",
      " rror        :\t0 - No Error\n",
      "frequency    :\t10000 (Hz)\n",
      "timeout      :\t5 (s)\n",
      "acdac_ch1:\n",
      "\tparameter value\n",
      "--------------------------------------------------------------------------------\n",
      "phase   :\t116.02 (deg)\n",
      "voltage :\t168.44 (mV)\n",
      "acdac_ch2:\n",
      "\tparameter value\n",
      "--------------------------------------------------------------------------------\n",
      "phase   :\t0 (deg)\n",
      "voltage :\t300 (mV)\n",
      "acdac_ch3:\n",
      "\tparameter value\n",
      "--------------------------------------------------------------------------------\n",
      "phase   :\t0 (deg)\n",
      "voltage :\t0 (mV)\n",
      "acdac_ch4:\n",
      "\tparameter value\n",
      "--------------------------------------------------------------------------------\n",
      "phase   :\t0 (deg)\n",
      "voltage :\t300 (mV)\n"
     ]
    }
   ],
   "source": [
    "paramp(dac.ch1.voltage)\n",
    "paramp(dac.ch2.voltage)\n",
    "paramp(vg)\n",
    "paramp(vdd)"
   ]
  }
 ],
 "metadata": {
  "kernelspec": {
   "display_name": "venv",
   "language": "python",
   "name": "python3"
  },
  "language_info": {
   "codemirror_mode": {
    "name": "ipython",
    "version": 3
   },
   "file_extension": ".py",
   "mimetype": "text/x-python",
   "name": "python",
   "nbconvert_exporter": "python",
   "pygments_lexer": "ipython3",
   "version": "3.12.3"
  }
 },
 "nbformat": 4,
 "nbformat_minor": 2
}
