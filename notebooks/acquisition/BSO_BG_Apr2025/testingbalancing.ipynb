{
 "cells": [
  {
   "cell_type": "code",
   "execution_count": 1,
   "id": "3348b0dd",
   "metadata": {},
   "outputs": [
    {
     "name": "stdout",
     "output_type": "stream",
     "text": [
      "('TCPIP0::169.254.169.3::inst0::INSTR', 'ASRL1::INSTR', 'ASRL3::INSTR', 'ASRL4::INSTR', 'ASRL6::INSTR', 'GPIB0::15::INSTR')\n"
     ]
    }
   ],
   "source": [
    "import qcodes as qc\n",
    "import numpy as np\n",
    "from time import sleep\n",
    "import sweep \n",
    "from barreralabdrivers.utils.param_utils import paramp\n",
    "from cappy.config import BGBSO1_1, COOL_STATION_CONFIG\n",
    "from cappy.balancer import Balancer\n",
    "\n",
    "from qcodes.validators import Numbers, Callable, Validator\n",
    "from qcodes.parameters import Parameter, ScaledParameter\n",
    "from cappy.virtual_params import Diff, Sum\n",
    "\n",
    "#Finding instruments which are connected\n",
    "from pyvisa import ResourceManager\n",
    "rm = ResourceManager()\n",
    "print(rm.list_resources())\n"
   ]
  },
  {
   "cell_type": "code",
   "execution_count": 3,
   "id": "6e9fafbd",
   "metadata": {},
   "outputs": [
    {
     "name": "stdout",
     "output_type": "stream",
     "text": [
      "Connected to: BARRERA ACDAC02 (serial:AD9106, firmware:2.00) in 3.04s\n",
      "Connected to: Stanford_Research_Systems SR865A (serial:005296, firmware:V1.51) in 0.13s\n",
      "Connected to: Stanford_Research_Systems SR860 (serial:005276, firmware:V1.51) in 0.13s\n"
     ]
    }
   ],
   "source": [
    "qc.Instrument.close_all()\n",
    "\n",
    "container = qc.Station(config_file=str(COOL_STATION_CONFIG))\n",
    "\n",
    "acdac = container.load_instrument(\"acdac\")\n",
    "li1 = container.load_instrument(\"lockin1\")\n",
    "li2 = container.load_instrument(\"lockin2\")\n"
   ]
  },
  {
   "cell_type": "code",
   "execution_count": 18,
   "id": "336342e6",
   "metadata": {},
   "outputs": [
    {
     "name": "stdout",
     "output_type": "stream",
     "text": [
      "2 channel mode in use\n"
     ]
    }
   ],
   "source": [
    "vdriveamp = li1.amplitude\n",
    "vdrivephase = acdac.ch1.phase\n",
    "vdrivephase(0)\n",
    "vdriveamp(0)\n",
    "\n",
    "\n",
    "vrefamp = li2.amplitude\n",
    "vrefphase = acdac.ch2.phase\n",
    "vrefphase(0)\n",
    "vdriveamp(0)\n",
    "vref = (vrefamp, vrefphase)\n",
    "vdrive = (vdriveamp, vdrivephase)\n",
    "acdac.ch1.voltage(400)\n",
    "acdac.ch2.voltage(400)\n",
    "\n",
    "freq = acdac.frequency\n",
    "lireference = None\n",
    "integration_time = 4\n",
    "balance = Balancer(vref, lireference, vdrive, li1, freq, integration_time)\n",
    "\n",
    "DRIVE = 10e-3\n",
    "REF = 10e-3\n",
    "FREQ = 10777\n",
    "balance.excite(DRIVE, REF, FREQ)\n",
    "\n",
    "\n"
   ]
  },
  {
   "cell_type": "code",
   "execution_count": 65,
   "id": "998345e9",
   "metadata": {},
   "outputs": [
    {
     "name": "stdout",
     "output_type": "stream",
     "text": [
      "Kr1, Kr2 = (np.float64(-0.0024373546466400003), np.float64(0.48935057130000004))\n",
      "Kc1, Kc2 = (np.float64(-0.49803268884755), np.float64(-0.0012930016999999905))\n",
      "P = 1.2931063873648675e-05\n",
      "The difference between balancing and offbal is 7.683127262614718e-11\n",
      "cap 1 = 1.0133485231222305e-07, and cap 2 = 1.012580210395969e-07\n"
     ]
    }
   ],
   "source": [
    "INIT = (10e-3, 10e-3)\n",
    "DELTA = (20e-3, 20e-3)\n",
    "NULL = True\n",
    "CSTAND = 100e-9 #F\n",
    "balance.balanceconfig(INIT, DELTA, NULL, CSTAND)\n",
    "balance.balance()\n",
    "cap1 = balance.calculate_capacitance()\n",
    "\n",
    "from cappy.balancer import Capacitance\n",
    "\n",
    "sleep(1)\n",
    "cap= Capacitance(balance)\n",
    "\n",
    "offbal = True\n",
    "rebal = True\n",
    "cap.capconfig(offbal, rebal)\n",
    "cap2 = cap()\n",
    "\n",
    "print(f'The difference between balancing and offbal is {cap1 - cap2}')  \n",
    "print(f'cap 1 = {cap1}, and cap 2 = {cap2}')\n",
    "\n"
   ]
  },
  {
   "cell_type": "code",
   "execution_count": 17,
   "id": "591a30f8",
   "metadata": {},
   "outputs": [
    {
     "data": {
      "text/plain": [
       "0.00099999993108"
      ]
     },
     "execution_count": 17,
     "metadata": {},
     "output_type": "execute_result"
    }
   ],
   "source": [
    "acdac.ch2.phase(179.79)\n",
    "li1.amplitude()\n",
    "sleep(0.5)\n",
    "li2.amplitude()"
   ]
  },
  {
   "cell_type": "code",
   "execution_count": 68,
   "id": "e3b47863",
   "metadata": {},
   "outputs": [
    {
     "data": {
      "text/plain": [
       "np.float64(1.003501107642538e-07)"
      ]
     },
     "execution_count": 68,
     "metadata": {},
     "output_type": "execute_result"
    }
   ],
   "source": [
    "\n",
    "cap()\n"
   ]
  }
 ],
 "metadata": {
  "kernelspec": {
   "display_name": "venv",
   "language": "python",
   "name": "python3"
  },
  "language_info": {
   "codemirror_mode": {
    "name": "ipython",
    "version": 3
   },
   "file_extension": ".py",
   "mimetype": "text/x-python",
   "name": "python",
   "nbconvert_exporter": "python",
   "pygments_lexer": "ipython3",
   "version": "3.12.3"
  }
 },
 "nbformat": 4,
 "nbformat_minor": 5
}
